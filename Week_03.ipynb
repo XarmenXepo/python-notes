{
 "cells": [
  {
   "cell_type": "code",
   "execution_count": 1,
   "id": "52c5fee2",
   "metadata": {},
   "outputs": [
    {
     "name": "stdout",
     "output_type": "stream",
     "text": [
      "What is your name?meowmeow cat\n",
      "meowmeow cat\n"
     ]
    }
   ],
   "source": [
    "# accepting and outputting user input\n",
    "print ( input ('What is your name?'))"
   ]
  },
  {
   "cell_type": "code",
   "execution_count": 2,
   "id": "60b91e5b",
   "metadata": {},
   "outputs": [
    {
     "name": "stdout",
     "output_type": "stream",
     "text": [
      "What is your name?meow\n",
      "<class 'method'>\n",
      "Hello meow!\n"
     ]
    }
   ],
   "source": [
    "# saving what the user inputs\n",
    "ans = input( 'What is your name?')\n",
    "print( type(input))\n",
    "print('Hello {}!'.format(ans))"
   ]
  },
  {
   "cell_type": "code",
   "execution_count": 4,
   "id": "beccd0b9",
   "metadata": {},
   "outputs": [
    {
     "name": "stdout",
     "output_type": "stream",
     "text": [
      "<class 'int'>\n"
     ]
    }
   ],
   "source": [
    "# how to check the data type of a variable\n",
    "num = 5\n",
    "print(type(num))"
   ]
  },
  {
   "cell_type": "code",
   "execution_count": 6,
   "id": "94e36c06",
   "metadata": {},
   "outputs": [
    {
     "name": "stdout",
     "output_type": "stream",
     "text": [
      "<class 'int'>\n"
     ]
    }
   ],
   "source": [
    "# converting a variable from one data type to another\n",
    "num = '9'\n",
    "num = int(num) # re-declaring num to store an integer\n",
    "print(type(num)) # checking type to make sure conversion worked"
   ]
  },
  {
   "cell_type": "markdown",
   "id": "26bc8c2a",
   "metadata": {},
   "source": [
    "### working with user input to perform calculations\n",
    "ans = input('Type a number to add: ')\n",
    "print( type(ans)) # default type is string, must convert\n",
    "result = 100 + int(ans)\n",
    "print( '100 + {} = {}'.format(ans, result))"
   ]
  },
  {
   "cell_type": "code",
   "execution_count": 36,
   "id": "e13451e6",
   "metadata": {},
   "outputs": [
    {
     "name": "stdout",
     "output_type": "stream",
     "text": [
      "Type a number to add: 5\n",
      "100 + 5.0 = 105.0\n",
      "The program did not break!\n"
     ]
    }
   ],
   "source": [
    "# using the try and except blocks, use tab to indent where necessary\n",
    "try:\n",
    "    ans = float(input('Type a number to add: '))\n",
    "    print( '100 + {} = {}'.format(ans, 100 + ans))\n",
    "except:\n",
    "    print( 'You did not put in a valid number!')\n",
    "# without try/except print state would not get hit if error occurs\n",
    "print('The program did not break!')"
   ]
  },
  {
   "cell_type": "code",
   "execution_count": 37,
   "id": "6e3f9406",
   "metadata": {},
   "outputs": [
    {
     "name": "stdout",
     "output_type": "stream",
     "text": [
      "<class 'str'>\n",
      "<class 'bool'>\n"
     ]
    }
   ],
   "source": [
    "# Monday Exercise 1 \n",
    "# converting a string to a boolean\n",
    "exercise1 = str(True)\n",
    "print( type(exercise1))\n",
    "exercise1 = bool(exercise1)\n",
    "print( type(exercise1))"
   ]
  },
  {
   "cell_type": "code",
   "execution_count": 44,
   "id": "f619d64e",
   "metadata": {},
   "outputs": [
    {
     "name": "stdout",
     "output_type": "stream",
     "text": [
      "Enter a number here: 3\n",
      "3\n",
      "Enter another number here: 10\n",
      "10\n",
      "13\n"
     ]
    }
   ],
   "source": [
    "# Monday Exercise 2\n",
    "sum1 = input('Enter a number here: ')\n",
    "sum1 = int(sum1)\n",
    "print( sum1 )\n",
    "sum2 = input('Enter another number here: ')\n",
    "sum2 = int(sum2)\n",
    "print( sum2 )\n",
    "result = sum1 + sum2\n",
    "print( result )"
   ]
  },
  {
   "cell_type": "code",
   "execution_count": null,
   "id": "f8fd369c",
   "metadata": {},
   "outputs": [],
   "source": [
    " # If Statements"
   ]
  },
  {
   "cell_type": "code",
   "execution_count": 3,
   "id": "62c11c13",
   "metadata": {},
   "outputs": [
    {
     "name": "stdout",
     "output_type": "stream",
     "text": [
      "a is less than b\n"
     ]
    }
   ],
   "source": [
    "# using an if statement to only run code if the condition is met\n",
    "x, y = 55, 10\n",
    "if x < y:\n",
    "    print( 'x is less than y')\n",
    "\n",
    "a, b = 5, 10\n",
    "if a < b:\n",
    "    print( 'a is less than b')"
   ]
  },
  {
   "cell_type": "code",
   "execution_count": 9,
   "id": "5a2f8db3",
   "metadata": {},
   "outputs": [
    {
     "name": "stdout",
     "output_type": "stream",
     "text": [
      "What is 5 + 5?1\n"
     ]
    }
   ],
   "source": [
    "# checking user input\n",
    "ans = int( input('What is 5 + 5?' ))\n",
    "if ans == 10:\n",
    "    print('You got it right!')"
   ]
  },
  {
   "cell_type": "code",
   "execution_count": 12,
   "id": "31fa4a26",
   "metadata": {},
   "outputs": [
    {
     "name": "stdout",
     "output_type": "stream",
     "text": [
      "Both statements were true of x, y and z\n"
     ]
    }
   ],
   "source": [
    "# using the keyword 'and' in an 'if statement'\n",
    "x, y, z = 5, 10, 5\n",
    "if x < y and x == z:\n",
    "    print ( 'Both statements were true of x, y and z')\n",
    "    \n",
    "a, b, c = 5, 10, 6\n",
    "if a < b and a == c:\n",
    "    print ( 'Both statements were true of a, b and c') "
   ]
  },
  {
   "cell_type": "code",
   "execution_count": 14,
   "id": "e1ec2d6f",
   "metadata": {},
   "outputs": [
    {
     "name": "stdout",
     "output_type": "stream",
     "text": [
      "One or both statements were true of x, y and z.\n"
     ]
    }
   ],
   "source": [
    "# using the keyword 'or' in an 'if statement'\n",
    "x, y, z = 5, 10, 5\n",
    "if x < y or x != z:\n",
    "    print ( 'One or both statements were true of x, y and z.')\n",
    "    \n",
    "    \n",
    "# the only time 'or' will not run if both conditions are False\n",
    "a, b, c = 5, 1, 5\n",
    "if a < b or a != c:\n",
    "    print ( 'One or both statements were true of a, b and c.')"
   ]
  },
  {
   "cell_type": "code",
   "execution_count": 15,
   "id": "9d1822ba",
   "metadata": {},
   "outputs": [
    {
     "name": "stdout",
     "output_type": "stream",
     "text": [
      "Flag is False\n"
     ]
    }
   ],
   "source": [
    "# using the keyword 'not' within an 'if statement'\n",
    "flag = False\n",
    "if not flag:                       # same as saying if not true\n",
    "    print( 'Flag is False')"
   ]
  },
  {
   "cell_type": "code",
   "execution_count": 17,
   "id": "d8942a00",
   "metadata": {},
   "outputs": [
    {
     "name": "stdout",
     "output_type": "stream",
     "text": [
      "Baseball contains the character b\n"
     ]
    }
   ],
   "source": [
    "# using the keyword 'in' within an 'if statement'\n",
    "word = 'Baseball'\n",
    "if 'b' in word:\n",
    "    print( '{} contains the character b'.format(word))"
   ]
  },
  {
   "cell_type": "code",
   "execution_count": 20,
   "id": "e2dbd5ef",
   "metadata": {},
   "outputs": [
    {
     "name": "stdout",
     "output_type": "stream",
     "text": [
      "Baseball does not contain the character x\n"
     ]
    }
   ],
   "source": [
    "# using the keyword 'not in' within an 'if statement'\n",
    "word = 'Baseball'\n",
    "if 'x' not in word:\n",
    "    print( '{} does not contain the character x'.format(word))"
   ]
  },
  {
   "cell_type": "code",
   "execution_count": 1,
   "id": "94aea235",
   "metadata": {},
   "outputs": [
    {
     "name": "stdout",
     "output_type": "stream",
     "text": [
      "Type in a word.herdes\n",
      "You have entered the word herdes and it contains the characters es!\n"
     ]
    }
   ],
   "source": [
    "# Tuesday Exercise 1\n",
    "type_a_word = str(input ('Type in a word.'))\n",
    "if 'es' in type_a_word:\n",
    "    print( 'You have entered the word {} and it contains the characters es!'.format(type_a_word))"
   ]
  },
  {
   "cell_type": "code",
   "execution_count": 3,
   "id": "bb3985f4",
   "metadata": {},
   "outputs": [
    {
     "name": "stdout",
     "output_type": "stream",
     "text": [
      "x is less\n"
     ]
    }
   ],
   "source": [
    "# using the elif conditional statement\n",
    "x, y = 5, 10\n",
    "if x > y:\n",
    "    print( 'x is greater')\n",
    "elif x < y:\n",
    "    print( 'x is less')"
   ]
  },
  {
   "cell_type": "code",
   "execution_count": 4,
   "id": "7a6ccb55",
   "metadata": {},
   "outputs": [
    {
     "name": "stdout",
     "output_type": "stream",
     "text": [
      "equal\n"
     ]
    }
   ],
   "source": [
    "# checking more than one elif conditional statement\n",
    "x, y = 5, 10\n",
    "if x > y:\n",
    "    print( 'x is greater')\n",
    "elif (x + 10) < y:\n",
    "    print( 'x is less')\n",
    "elif(x + 5) == y:\n",
    "    print( 'equal')"
   ]
  },
  {
   "cell_type": "code",
   "execution_count": 5,
   "id": "60736169",
   "metadata": {},
   "outputs": [
    {
     "name": "stdout",
     "output_type": "stream",
     "text": [
      "x is equal to z\n"
     ]
    }
   ],
   "source": [
    "# writing multiple conditionals within each other - multiple block levels\n",
    "x, y, z = 5, 10, 5\n",
    "if x > y:\n",
    "    print( 'greater')\n",
    "elif x < y:\n",
    "    if x == z:\n",
    "        print( 'x is equal to z')\n",
    "    elif x != z:\n",
    "        print( 'x is not equal to z')\n",
    "        \n",
    "#elif will print the first true statement\n",
    "#elif statements will all be related to the if statement"
   ]
  },
  {
   "cell_type": "code",
   "execution_count": 6,
   "id": "988f3180",
   "metadata": {},
   "outputs": [
    {
     "name": "stdout",
     "output_type": "stream",
     "text": [
      "x is less\n",
      "x is equal\n"
     ]
    }
   ],
   "source": [
    "# testing output of two if statements in a row that are BOTH true\n",
    "x ,y, z = 5, 10, 5\n",
    "if x < y:\n",
    "    print( 'x is less')\n",
    "if x == z:\n",
    "    print( 'x is equal')\n",
    "    \n",
    "# if will print ALL true statements\n",
    "#if statements do not need to be related to each other"
   ]
  },
  {
   "cell_type": "code",
   "execution_count": 7,
   "id": "163d8b5b",
   "metadata": {},
   "outputs": [
    {
     "name": "stdout",
     "output_type": "stream",
     "text": [
      "x is less\n"
     ]
    }
   ],
   "source": [
    "# testing output of an if and elif statement that are both true\n",
    "x, y, z = 5, 10, 5\n",
    "if x < y:\n",
    "    print( 'x is less')\n",
    "elif x == z:\n",
    "    print('x is equal to z')"
   ]
  },
  {
   "cell_type": "code",
   "execution_count": 10,
   "id": "05b3ac2c",
   "metadata": {},
   "outputs": [
    {
     "name": "stdout",
     "output_type": "stream",
     "text": [
      "Enter a number here99\n",
      "99\n",
      "You have entered a number that is lower than 100.\n"
     ]
    }
   ],
   "source": [
    "# Wednesday Exercise 1\n",
    "higher_lower = input('Enter a number here')\n",
    "higher_lower = int(higher_lower)\n",
    "print (higher_lower)\n",
    "if higher_lower < 100:\n",
    "    print( 'You have entered a number that is lower than 100.')\n",
    "elif higher_lower > 100:\n",
    "    print( 'You have entered a number that is higher than 100.')"
   ]
  },
  {
   "cell_type": "code",
   "execution_count": 13,
   "id": "90a08ec5",
   "metadata": {},
   "outputs": [
    {
     "name": "stdout",
     "output_type": "stream",
     "text": [
      "lower\n"
     ]
    }
   ],
   "source": [
    "# Wednesday Exercise 2\n",
    "x, y = 5, 10\n",
    "if x > y:\n",
    "    print( 'greater')\n",
    "elif x < y:\n",
    "    print( 'lower')"
   ]
  },
  {
   "cell_type": "code",
   "execution_count": null,
   "id": "4f5c759d",
   "metadata": {},
   "outputs": [],
   "source": [
    "# Else Statements"
   ]
  },
  {
   "cell_type": "code",
   "execution_count": 4,
   "id": "b789b019",
   "metadata": {},
   "outputs": [
    {
     "name": "stdout",
     "output_type": "stream",
     "text": [
      "Hello John!\n"
     ]
    }
   ],
   "source": [
    "# using an else statement\n",
    "name = \"John\"\n",
    "if name == \"Jacob\":\n",
    "    print( \"Hello Jacob\")\n",
    "else:\n",
    "    print( \"Hello {}!\".format(name))"
   ]
  },
  {
   "cell_type": "code",
   "execution_count": 6,
   "id": "14252018",
   "metadata": {},
   "outputs": [
    {
     "name": "stdout",
     "output_type": "stream",
     "text": [
      "Name starts with a J\n"
     ]
    }
   ],
   "source": [
    "# writing a full conditional statement with if, elif, else\n",
    "name = \"John\"\n",
    "if name[0] == \"A\":\n",
    "    print( \"Name starts with an A\")\n",
    "elif name[0] == \"B\":\n",
    "    print( \"Name starts with a B\")\n",
    "elif name[0] == \"J\":\n",
    "    print( \"Name starts with a J\")\n",
    "else:\n",
    "    print( \"Name starts with a {}\".format(name[0]))"
   ]
  },
  {
   "cell_type": "code",
   "execution_count": 7,
   "id": "0e1f476d",
   "metadata": {},
   "outputs": [
    {
     "name": "stdout",
     "output_type": "stream",
     "text": [
      "Hello John\n"
     ]
    }
   ],
   "source": [
    "# Thursday Exercise 1\n",
    "name = \"John\"\n",
    "if name == \"Jack\":\n",
    "    print( \"Hello Jack\")\n",
    "else:\n",
    "    print( \"Hello John\")"
   ]
  },
  {
   "cell_type": "code",
   "execution_count": 16,
   "id": "d5ba87eb",
   "metadata": {},
   "outputs": [
    {
     "name": "stdout",
     "output_type": "stream",
     "text": [
      "Put in the time of day in military time. 1900\n",
      "Godo Evening\n"
     ]
    }
   ],
   "source": [
    "# Thursday Exercise 2\n",
    "military_time = input( \"Put in the time of day in military time. \")\n",
    "military_time = int(military_time)\n",
    "if military_time < 1200:\n",
    "    print( \"Good Morning\")\n",
    "elif military_time > 1700:\n",
    "    print( \"Godo Evening\")\n",
    "else:\n",
    "    print( \"Good Afternoon\")"
   ]
  },
  {
   "cell_type": "code",
   "execution_count": 10,
   "id": "baa1fac9",
   "metadata": {},
   "outputs": [
    {
     "name": "stdout",
     "output_type": "stream",
     "text": [
      "where are you working from today?dc\n",
      "Try harder!\n"
     ]
    }
   ],
   "source": [
    "WFH = input(\"where are you working from today?\")\n",
    "if \"Hawaii\" in WFH:\n",
    "    print(\"Good Job\")\n",
    "if \"hawaii\" in WFH:\n",
    "    print(\"Good Job\")\n",
    "elif WFH != \"Hawaii\":\n",
    "    print(\"Try harder!\")"
   ]
  },
  {
   "cell_type": "code",
   "execution_count": null,
   "id": "4a70f13b",
   "metadata": {},
   "outputs": [],
   "source": [
    "# Friday Project: Creating a Calculator"
   ]
  },
  {
   "cell_type": "code",
   "execution_count": 7,
   "id": "12153499",
   "metadata": {},
   "outputs": [
    {
     "name": "stdout",
     "output_type": "stream",
     "text": [
      "Would you like to add/subtract/multiply/divide? add\n",
      "You chose add.\n"
     ]
    }
   ],
   "source": [
    "# step 1: ask user for calculation to be performed\n",
    "operation = input( \"Would you like to add/subtract/multiply/divide? \").lower()\n",
    "print( \"You chose {}.\".format(operation))    #this block of code is for testing purposes"
   ]
  },
  {
   "cell_type": "code",
   "execution_count": 8,
   "id": "aa23227a",
   "metadata": {},
   "outputs": [
    {
     "name": "stdout",
     "output_type": "stream",
     "text": [
      "What is the first number? 5\n",
      "What is the second number? 5\n",
      "First Number: 5\n",
      "Second Number: 5\n"
     ]
    }
   ],
   "source": [
    "# step 2: ask for numbers, alert order matter for subtracting and dividing\n",
    "if operation == \"subtract\" or operation == \"divide\":\n",
    "    print( \"You chose {}.\".format(operation))\n",
    "    print( \"Please keep in mind that the order of your number matter.\")\n",
    "num1 = input( \"What is the first number? \")\n",
    "num2 = input( \"What is the second number? \")\n",
    "print( \"First Number: {}\".format(num1)) # for testing purposes\n",
    "print( \"Second Number: {}\".format(num2)) # for testing purposes"
   ]
  },
  {
   "cell_type": "code",
   "execution_count": 9,
   "id": "8fabd64e",
   "metadata": {},
   "outputs": [
    {
     "name": "stdout",
     "output_type": "stream",
     "text": [
      "5.0 + 5.0 = 10.0\n"
     ]
    }
   ],
   "source": [
    "# step 3: setup try/except for mathematical operation\n",
    "try:\n",
    "    # step 3a: immediately try to convert numbers input to floats\n",
    "    num1, num2 = float(num1), float(num2)\n",
    "    # step 3b: perform operation and print result\n",
    "    if operation == \"add\":\n",
    "            result = num1 + num2\n",
    "            print( \"{} + {} = {}\".format(num1, num2, result))\n",
    "    elif operation == \"subtract\":\n",
    "            print( \"{} - {} = {}\".format(num1, num2, result))\n",
    "    elif operation == \"multiply\":\n",
    "            print( \"{} * {} = {}\".format(num1, num2, result))\n",
    "    else:\n",
    "            # else will be hit if they didn't choose an option correctly\n",
    "            print( \"Sorry, but '{}' is not an option.\".format(operation))\n",
    "except:\n",
    "    # step 3c: print error\n",
    "    print( \"Error: Improper numbers used. Please try again.\")"
   ]
  },
  {
   "cell_type": "code",
   "execution_count": null,
   "id": "63c63bdf",
   "metadata": {},
   "outputs": [],
   "source": []
  }
 ],
 "metadata": {
  "kernelspec": {
   "display_name": "Python 3 (ipykernel)",
   "language": "python",
   "name": "python3"
  },
  "language_info": {
   "codemirror_mode": {
    "name": "ipython",
    "version": 3
   },
   "file_extension": ".py",
   "mimetype": "text/x-python",
   "name": "python",
   "nbconvert_exporter": "python",
   "pygments_lexer": "ipython3",
   "version": "3.11.4"
  }
 },
 "nbformat": 4,
 "nbformat_minor": 5
}
