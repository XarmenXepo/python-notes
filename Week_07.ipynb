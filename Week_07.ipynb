{
 "cells": [
  {
   "cell_type": "code",
   "execution_count": 1,
   "id": "b57dbff6",
   "metadata": {},
   "outputs": [],
   "source": [
    "# Object Oriented Programming"
   ]
  },
  {
   "cell_type": "code",
   "execution_count": null,
   "id": "22ec165a",
   "metadata": {},
   "outputs": [],
   "source": [
    "# creating your first class\n",
    "    pass      # simply using as a placeholder until we add more code tomorrow"
   ]
  },
  {
   "cell_type": "code",
   "execution_count": 2,
   "id": "9e74cc2c",
   "metadata": {},
   "outputs": [
    {
     "name": "stdout",
     "output_type": "stream",
     "text": [
      "<__main__.Car object at 0x109e78290>\n"
     ]
    }
   ],
   "source": [
    "# instantiating an object from a class\n",
    "class Car():      # parentheses are optional here\n",
    "    pass\n",
    "ford = Car()      # creates an instance of the Car class and stores into the variable ford\n",
    "print(ford)"
   ]
  },
  {
   "cell_type": "code",
   "execution_count": 3,
   "id": "b0c76350",
   "metadata": {},
   "outputs": [
    {
     "name": "stdout",
     "output_type": "stream",
     "text": [
      "278999185\n",
      "278821653\n"
     ]
    }
   ],
   "source": [
    "# instantiating multiple objects from the same class\n",
    "class Car():\n",
    "    pass\n",
    "ford = Car()\n",
    "subaru = Car()\n",
    "print( hash(ford) )\n",
    "print( hash(subaru) )      # hash outputs a numerical representation of the location in memory for the variable"
   ]
  },
  {
   "cell_type": "code",
   "execution_count": 3,
   "id": "c6e71e0b",
   "metadata": {},
   "outputs": [
    {
     "name": "stdout",
     "output_type": "stream",
     "text": [
      "<class '__main__.Animals'> <class '__main__.Animals'>\n",
      "<class '__main__.Animals'>\n"
     ]
    }
   ],
   "source": [
    "# Monday exercise\n",
    "class Animals():\n",
    "    pass\n",
    "lion = Animals\n",
    "tiger = Animals\n",
    "print(lion, tiger)"
   ]
  },
  {
   "cell_type": "code",
   "execution_count": 5,
   "id": "c351866b",
   "metadata": {},
   "outputs": [
    {
     "name": "stdout",
     "output_type": "stream",
     "text": [
      "red\n"
     ]
    }
   ],
   "source": [
    "# how to define a class attribute\n",
    "class Car():\n",
    "    sound = \"beep\"      # all car objects will have this sound attribute and its' value\n",
    "    color = \"red\"      # all car objects will have this color attribute and its' value\n",
    "    \n",
    "ford = Car()\n",
    "print(ford.color)      # known as 'dot syntax'"
   ]
  },
  {
   "cell_type": "code",
   "execution_count": 6,
   "id": "49536016",
   "metadata": {},
   "outputs": [
    {
     "name": "stdout",
     "output_type": "stream",
     "text": [
      "beep\n",
      "honk\n"
     ]
    }
   ],
   "source": [
    "# changing the value of an attribute\n",
    "class Car():\n",
    "    sound = \"beep\"\n",
    "    color = \"red\"\n",
    "ford = Car()\n",
    "print(ford.sound)      # will output 'beep'\n",
    "ford.sound = \"honk\"      # from now on the value of fords sound is honk, this does not affect other instances\n",
    "print(ford.sound)"
   ]
  },
  {
   "cell_type": "code",
   "execution_count": 14,
   "id": "2239e0a9",
   "metadata": {},
   "outputs": [
    {
     "name": "stdout",
     "output_type": "stream",
     "text": [
      "blue\n",
      "blue\n"
     ]
    }
   ],
   "source": [
    "# using the init method to give instances personalized attributes upon creation\n",
    "class Car():\n",
    "    def __init__(self, color):\n",
    "        self.color = color      # sets the attribute color to the value passed in\n",
    "    \n",
    "ford = Car(\"blue\")      # instantiating a Car class with the color blue\n",
    "print(ford.color)\n",
    "\n",
    "bugatti = Car(\"blue\")\n",
    "print(bugatti.color)"
   ]
  },
  {
   "cell_type": "code",
   "execution_count": 16,
   "id": "e6fdf474",
   "metadata": {},
   "outputs": [
    {
     "name": "stdout",
     "output_type": "stream",
     "text": [
      "blue 2016\n",
      "red 2018\n"
     ]
    }
   ],
   "source": [
    "# defining different values for multiple instances\n",
    "class Car():\n",
    "    def __init__(self, color, year):\n",
    "        self.color = color      # sets the attribute color to the value passed in\n",
    "        self.year = year\n",
    "ford = Car(\"blue\", 2016)      # creates a car object with the color blue and year 2016\n",
    "subaru = Car(\"red\", 2018)      # creates a car object with the color red and year 2018\n",
    "print(ford.color, ford.year)\n",
    "print(subaru.color, subaru.year)"
   ]
  },
  {
   "cell_type": "code",
   "execution_count": null,
   "id": "4d8f6ce5",
   "metadata": {},
   "outputs": [],
   "source": [
    "# the beauty of OOP is we are able to build two different objects from the same source using just two lines!"
   ]
  },
  {
   "cell_type": "code",
   "execution_count": 19,
   "id": "6ad18ae6",
   "metadata": {},
   "outputs": [
    {
     "name": "stdout",
     "output_type": "stream",
     "text": [
      "beep\n",
      "beep blue\n"
     ]
    }
   ],
   "source": [
    "# using and accessing global class attributes\n",
    "\n",
    "class Car():\n",
    "    sound = \"beep\"      # this is a global attribute, accessible through the class itself\n",
    "    \n",
    "    def __init__(self, color):\n",
    "        self.color = \"blue\"      # this is instance specific attribute, not accessible through the class itself\n",
    "\n",
    "print(Car.sound)\n",
    "\n",
    "# print(Car.color) won't work as color is only availale to instaces of the Car class, not the class itself\n",
    "\n",
    "ford = Car(\"blue\")\n",
    "print(ford.sound, ford.color)      # color will work as this is an instance"
   ]
  },
  {
   "cell_type": "code",
   "execution_count": 27,
   "id": "d9f4515f",
   "metadata": {},
   "outputs": [
    {
     "name": "stdout",
     "output_type": "stream",
     "text": [
      "Sammi husky\n",
      "Casey chocolate lab\n"
     ]
    }
   ],
   "source": [
    "# Tuesday exercise\n",
    "\n",
    "class Dog():\n",
    "    species = \"Canine\"\n",
    "    \n",
    "    def __init__(self,name, breed):\n",
    "        self.name = name\n",
    "        self.breed = breed\n",
    "\n",
    "husky = Dog(\"Sammi\", \"husky\")\n",
    "print (husky.name, husky.breed)\n",
    "chocolatelab = Dog(\"Casey\", \"chocolate lab\")\n",
    "print(chocolatelab.name, chocolatelab.breed)"
   ]
  },
  {
   "cell_type": "code",
   "execution_count": null,
   "id": "f4225cff",
   "metadata": {},
   "outputs": [],
   "source": [
    "# Methods"
   ]
  },
  {
   "cell_type": "code",
   "execution_count": 1,
   "id": "45b1031c",
   "metadata": {},
   "outputs": [
    {
     "name": "stdout",
     "output_type": "stream",
     "text": [
      "bark\n"
     ]
    }
   ],
   "source": [
    "# defining and calling our first class method\n",
    "class Dog():\n",
    "    def makeSound(self):\n",
    "        print(\"bark\")\n",
    "sam = Dog()\n",
    "sam.makeSound()"
   ]
  },
  {
   "cell_type": "code",
   "execution_count": 9,
   "id": "b60e8eb8",
   "metadata": {},
   "outputs": [
    {
     "name": "stdout",
     "output_type": "stream",
     "text": [
      "bark\n"
     ]
    }
   ],
   "source": [
    "# using the self keyword to access attributes within class methods\n",
    "class Dog():\n",
    "    sound =  \"bark\"\n",
    "    def makeSound(self):\n",
    "        print(self.sound)\n",
    "        \n",
    "sam = Dog()\n",
    "sam.makeSound()"
   ]
  },
  {
   "cell_type": "code",
   "execution_count": 19,
   "id": "ccde6965",
   "metadata": {},
   "outputs": [
    {
     "name": "stdout",
     "output_type": "stream",
     "text": [
      "I am a dog\n",
      "bark\n"
     ]
    }
   ],
   "source": [
    "# understanding which methods are accessible via the class itself and class instances\n",
    "class Dog():\n",
    "    sound = \"bark\"\n",
    "    def makeSound(self):\n",
    "        print(self.sound)\n",
    "    def printInfo():\n",
    "        print(\"I am a dog\")\n",
    "Dog.printInfo()      # able to run printInfo method because it does not includ self parameter\n",
    "\n",
    "# Dog.makeSound() would produce error, self is in reference to instances only\n",
    "\n",
    "sam = Dog()\n",
    "sam.makeSound()      # able to access, self can referenef the instance of sam\n",
    "# sam.printInfo()      will produce error, instances require the self parameter to access methods"
   ]
  },
  {
   "cell_type": "code",
   "execution_count": 17,
   "id": "dbc9ef27",
   "metadata": {},
   "outputs": [
    {
     "name": "stdout",
     "output_type": "stream",
     "text": [
      "6\n"
     ]
    }
   ],
   "source": [
    "# writing methods that accept parameters\n",
    "class Dog():\n",
    "    def showAge(self, age):\n",
    "        print(age)      # does not need self, age is referencing the parameter not an attribute\n",
    "        \n",
    "sam = Dog()\n",
    "sam.showAge(6)      # passing the integer 6 as an arguement to the showAge method"
   ]
  },
  {
   "cell_type": "code",
   "execution_count": 20,
   "id": "70f8cae6",
   "metadata": {},
   "outputs": [
    {
     "name": "stdout",
     "output_type": "stream",
     "text": [
      "Sammi\n"
     ]
    }
   ],
   "source": [
    "# using methods to set or return attribute values, proper programming practice\n",
    "class Dog():\n",
    "    name = \" \"      # would normally use init method to declare, this is for testing purposes\n",
    "    def setName(self, new_name):\n",
    "        self.name = new_name      # declares the new value for the name attribute\n",
    "        \n",
    "    def getName(self):\n",
    "        return self.name      # returns the value of the name attribute\n",
    "    \n",
    "sam = Dog()\n",
    "sam.setName(\"Sammi\")\n",
    "print( sam.getName())      # prints the returned value of self.name"
   ]
  },
  {
   "cell_type": "code",
   "execution_count": 24,
   "id": "11b1e788",
   "metadata": {},
   "outputs": [
    {
     "name": "stdout",
     "output_type": "stream",
     "text": [
      "6\n"
     ]
    }
   ],
   "source": [
    "# incrementing/decrementing attribute values within methods, best programming practice\n",
    "class Dog():\n",
    "    age = 5\n",
    "    def happyBirthday(self):\n",
    "        self.age += 1\n",
    "\n",
    "sam = Dog()\n",
    "sam.happyBirthday()      # calls method to increment value by one\n",
    "print(sam.age)      # better practice use getters, this is for testing purposes"
   ]
  },
  {
   "cell_type": "code",
   "execution_count": 28,
   "id": "cd12322e",
   "metadata": {},
   "outputs": [
    {
     "name": "stdout",
     "output_type": "stream",
     "text": [
      "Puppy!\n"
     ]
    }
   ],
   "source": [
    "# calling a class method from another method\n",
    "class Dog():\n",
    "    age = 6\n",
    "    def getAge(self):\n",
    "        return self.age\n",
    "    def printInfo(self):\n",
    "        if self.getAge() < 10:      # need self to call other method for an instance\n",
    "            print(\"Puppy!\")\n",
    "\n",
    "sam = Dog()\n",
    "sam.printInfo()"
   ]
  },
  {
   "cell_type": "code",
   "execution_count": 29,
   "id": "d5f45e03",
   "metadata": {},
   "outputs": [
    {
     "name": "stdout",
     "output_type": "stream",
     "text": [
      "<__main__.Dog object at 0x113e09fd0>\n"
     ]
    }
   ],
   "source": [
    "# using magic methods\n",
    "class Dog():\n",
    "    def __str___(self):\n",
    "        return \"This is a dog class\"\n",
    "    \n",
    "sam = Dog()\n",
    "print(sam)      # will print the return of the string magic method"
   ]
  },
  {
   "cell_type": "code",
   "execution_count": null,
   "id": "928400f9",
   "metadata": {},
   "outputs": [],
   "source": [
    "# Inheritance"
   ]
  },
  {
   "cell_type": "code",
   "execution_count": 2,
   "id": "a1231906",
   "metadata": {},
   "outputs": [
    {
     "name": "stdout",
     "output_type": "stream",
     "text": [
      "roar\n"
     ]
    }
   ],
   "source": [
    "# inheriting a class and accessing the inherited method\n",
    "\n",
    "class Animal():\n",
    "    def makeSound(self):\n",
    "        print(\"roar\")\n",
    "\n",
    "class Dog(Animal):      # inheriting Animal class\n",
    "    species = \"Canine\"\n",
    "sam = Dog()\n",
    "sam.makeSound()      # accessible through inheritance\n",
    "lion = Animal()\n",
    "#lion.species       not accessible, inheritance does not work backwards"
   ]
  },
  {
   "cell_type": "code",
   "execution_count": 4,
   "id": "1073eb89",
   "metadata": {},
   "outputs": [
    {
     "name": "stdout",
     "output_type": "stream",
     "text": [
      "Canine\n",
      "Sammi\n"
     ]
    }
   ],
   "source": [
    "# using the super() method to declare inherited attributes\n",
    "\n",
    "class Animal():\n",
    "    def __init__(self, species):\n",
    "        self.species = species\n",
    "\n",
    "class Dog(Animal):\n",
    "    def __init__(self, species, name):\n",
    "        self.name = name\n",
    "        super().__init__(species)      # using super to declare the species attribute defined in Animal\n",
    "        \n",
    "sam = Dog(\"Canine\", \"Sammi\")\n",
    "print(sam.species)\n",
    "print(sam.name)"
   ]
  },
  {
   "cell_type": "code",
   "execution_count": 5,
   "id": "8903a65a",
   "metadata": {},
   "outputs": [
    {
     "name": "stdout",
     "output_type": "stream",
     "text": [
      "bark\n",
      "roar\n"
     ]
    }
   ],
   "source": [
    "# overriding methods defined in the superclass\n",
    "class Animal():\n",
    "    def makeSound(self):\n",
    "        print(\"roar\")\n",
    "\n",
    "class Dog(Animal):\n",
    "    def makeSound(self):\n",
    "        print(\"bark\")\n",
    "        \n",
    "sam, lion = Dog(), Animal()      # declaring multiple variables on a single line\n",
    "\n",
    "sam.makeSound()      # no overriding will call the makeSound method in Dog\n",
    "lion.makeSound()      # no overriding occurs as Animal does not inherit anything"
   ]
  },
  {
   "cell_type": "code",
   "execution_count": 9,
   "id": "b3c40100",
   "metadata": {},
   "outputs": [
    {
     "name": "stdout",
     "output_type": "stream",
     "text": [
      "9.8 Ford\n"
     ]
    }
   ],
   "source": [
    "# how to inherit muliple classes\n",
    "class Physics():\n",
    "    gravity = 9.8\n",
    "class Automobile():\n",
    "    def __init__(self, make, model, year):\n",
    "        self.make, self.model, self.year = make, model, year      # declaring all attributes on one line\n",
    "\n",
    "class Ford(Physics, Automobile):      # able to access Physics and Automobile attributes and methods\n",
    "    \n",
    "    def __init__(self, model, year):\n",
    "        Automobile.__init__(self, \"Ford\", model, year)      # super does not work with multiple\n",
    "\n",
    "truck = Ford(\"F-150\", 2018)\n",
    "print(truck.gravity, truck.make)      # output both attributes"
   ]
  },
  {
   "cell_type": "code",
   "execution_count": null,
   "id": "8ff37484",
   "metadata": {},
   "outputs": [],
   "source": []
  }
 ],
 "metadata": {
  "kernelspec": {
   "display_name": "Python 3 (ipykernel)",
   "language": "python",
   "name": "python3"
  },
  "language_info": {
   "codemirror_mode": {
    "name": "ipython",
    "version": 3
   },
   "file_extension": ".py",
   "mimetype": "text/x-python",
   "name": "python",
   "nbconvert_exporter": "python",
   "pygments_lexer": "ipython3",
   "version": "3.11.4"
  }
 },
 "nbformat": 4,
 "nbformat_minor": 5
}
