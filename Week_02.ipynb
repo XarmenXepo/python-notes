{
 "cells": [
  {
   "cell_type": "code",
   "execution_count": null,
   "id": "4b0db545",
   "metadata": {},
   "outputs": [],
   "source": [
    "## Comment & Basic Data Types"
   ]
  },
  {
   "cell_type": "code",
   "execution_count": 3,
   "id": "2c9287a7",
   "metadata": {},
   "outputs": [
    {
     "name": "stdout",
     "output_type": "stream",
     "text": [
      "Hellooo\n",
      "Hellooo again\n"
     ]
    }
   ],
   "source": [
    "# this is a comment\n",
    "print (\"Hellooo\") #this is also a comment\n",
    "\n",
    "\"\"\"\n",
    "    This is a multi-line comment\n",
    "\"\"\"\n",
    "print(\"Hellooo again\") #this is also another comment"
   ]
  },
  {
   "cell_type": "code",
   "execution_count": 4,
   "id": "f99aec3d",
   "metadata": {},
   "outputs": [
    {
     "name": "stdout",
     "output_type": "stream",
     "text": [
      "2\n",
      "10\n"
     ]
    }
   ],
   "source": [
    "# the following are all integers\n",
    "print(2)\n",
    "print(10)"
   ]
  },
  {
   "cell_type": "code",
   "execution_count": 5,
   "id": "e4bbcdd8",
   "metadata": {},
   "outputs": [
    {
     "name": "stdout",
     "output_type": "stream",
     "text": [
      "10.922\n",
      "8.0\n"
     ]
    }
   ],
   "source": [
    "#the following are all floats\n",
    "print(10.922)\n",
    "print(8.0) #even this number is a float"
   ]
  },
  {
   "cell_type": "code",
   "execution_count": 7,
   "id": "71a52ed2",
   "metadata": {},
   "outputs": [
    {
     "name": "stdout",
     "output_type": "stream",
     "text": [
      "True\n",
      "False\n"
     ]
    }
   ],
   "source": [
    "#the following are booleans\n",
    "print(True)\n",
    "print(False)\n",
    "\n",
    "#python is case sensitive!"
   ]
  },
  {
   "cell_type": "code",
   "execution_count": 10,
   "id": "58b885a9",
   "metadata": {},
   "outputs": [
    {
     "name": "stdout",
     "output_type": "stream",
     "text": [
      "\n",
      "There is a snake in my boot!\n",
      "True\n"
     ]
    }
   ],
   "source": [
    "#the following are strings\n",
    "print(\"\") #the white space between those two quotation marks are strings!\n",
    "print(\"There is a snake in my boot!\")\n",
    "print('True') #we can also use single quotes or double quotes"
   ]
  },
  {
   "cell_type": "code",
   "execution_count": 24,
   "id": "9f454cff",
   "metadata": {},
   "outputs": [
    {
     "name": "stdout",
     "output_type": "stream",
     "text": [
      "My name is Hello Bad Pet!\n",
      "Age: 9\n"
     ]
    },
    {
     "data": {
      "text/plain": [
       "str"
      ]
     },
     "execution_count": 24,
     "metadata": {},
     "output_type": "execute_result"
    }
   ],
   "source": [
    "#this is Monday's Excercise\n",
    "print (\"My name is Hello Bad Pet!\")\n",
    "print (\"Age:\", 9)\n",
    "\n",
    "type (\"My name is Hello Bad Pet!\")\n",
    "#using type, will print out the type of data you're checking,"
   ]
  },
  {
   "cell_type": "code",
   "execution_count": null,
   "id": "397c72af",
   "metadata": {},
   "outputs": [],
   "source": [
    "#Variables"
   ]
  },
  {
   "cell_type": "code",
   "execution_count": 3,
   "id": "54127050",
   "metadata": {},
   "outputs": [
    {
     "name": "stdout",
     "output_type": "stream",
     "text": [
      "5 8.4\n"
     ]
    }
   ],
   "source": [
    "num1 = 5\n",
    "num2 = 8.4\n",
    "print(num1, num2)"
   ]
  },
  {
   "cell_type": "code",
   "execution_count": 4,
   "id": "ff2bc86f",
   "metadata": {},
   "outputs": [
    {
     "name": "stdout",
     "output_type": "stream",
     "text": [
      "True\n"
     ]
    }
   ],
   "source": [
    "#storing a boolean into a variable\n",
    "switch = True\n",
    "print (switch)"
   ]
  },
  {
   "cell_type": "code",
   "execution_count": 5,
   "id": "ca7e9312",
   "metadata": {},
   "outputs": [
    {
     "name": "stdout",
     "output_type": "stream",
     "text": [
      "John Smith 9\n"
     ]
    }
   ],
   "source": [
    "#storing strings into a variable\n",
    "name='John Smith'\n",
    "fav_number='9'\n",
    "print(name,fav_number) #this line will print 9 next to the name"
   ]
  },
  {
   "cell_type": "code",
   "execution_count": 6,
   "id": "f94cdf2d",
   "metadata": {},
   "outputs": [
    {
     "name": "stdout",
     "output_type": "stream",
     "text": [
      "13.4\n"
     ]
    }
   ],
   "source": [
    "#using two variables to create another variable\n",
    "result = num1 + num2\n",
    "print(result)"
   ]
  },
  {
   "cell_type": "code",
   "execution_count": 7,
   "id": "bf28b427",
   "metadata": {},
   "outputs": [
    {
     "name": "stdout",
     "output_type": "stream",
     "text": [
      "John\n",
      "Sam\n"
     ]
    }
   ],
   "source": [
    "#defining a variable and overwriting it's value\n",
    "name = 'John'\n",
    "print(name)\n",
    "name = 'Sam'\n",
    "print(name)"
   ]
  },
  {
   "cell_type": "code",
   "execution_count": 13,
   "id": "b1d25af3",
   "metadata": {},
   "outputs": [
    {
     "name": "stdout",
     "output_type": "stream",
     "text": [
      "3 10\n"
     ]
    }
   ],
   "source": [
    "#Tuesday exercises\n",
    "x = 3\n",
    "y = 10\n",
    "print (x,y)"
   ]
  },
  {
   "cell_type": "code",
   "execution_count": 16,
   "id": "5217ab1a",
   "metadata": {},
   "outputs": [
    {
     "name": "stdout",
     "output_type": "stream",
     "text": [
      "30\n"
     ]
    }
   ],
   "source": [
    "result = (x * y)\n",
    "print(result)"
   ]
  },
  {
   "cell_type": "code",
   "execution_count": 22,
   "id": "b07e38f0",
   "metadata": {},
   "outputs": [
    {
     "name": "stdout",
     "output_type": "stream",
     "text": [
      "3 10\n"
     ]
    }
   ],
   "source": [
    "x = '3'\n",
    "y = '10'\n",
    "print (x,y)"
   ]
  },
  {
   "cell_type": "code",
   "execution_count": 23,
   "id": "65b65f3f",
   "metadata": {},
   "outputs": [
    {
     "name": "stdout",
     "output_type": "stream",
     "text": [
      "13\n"
     ]
    }
   ],
   "source": [
    "result = '13'\n",
    "print (result)"
   ]
  },
  {
   "cell_type": "code",
   "execution_count": 28,
   "id": "c1f10a07",
   "metadata": {},
   "outputs": [
    {
     "name": "stdout",
     "output_type": "stream",
     "text": [
      "3 + 10 = 13\n"
     ]
    }
   ],
   "source": [
    "print (x, '+', y, '=', result)"
   ]
  },
  {
   "cell_type": "code",
   "execution_count": 1,
   "id": "cc21d0b0",
   "metadata": {},
   "outputs": [
    {
     "name": "stdout",
     "output_type": "stream",
     "text": [
      "John Smith\n"
     ]
    }
   ],
   "source": [
    "# using the addition operator without variables\n",
    "name = 'John' + ' ' + 'Smith'\n",
    "print(name)"
   ]
  },
  {
   "cell_type": "code",
   "execution_count": 4,
   "id": "1c7f0a59",
   "metadata": {},
   "outputs": [
    {
     "name": "stdout",
     "output_type": "stream",
     "text": [
      "John Smith\n"
     ]
    }
   ],
   "source": [
    "# using the addition operator with variables\n",
    "first_name = 'John'\n",
    "last_name = \"Smith\"\n",
    "full_name = first_name + ' ' + last_name\n",
    "print (full_name)"
   ]
  },
  {
   "cell_type": "code",
   "execution_count": 7,
   "id": "6a47e753",
   "metadata": {},
   "outputs": [
    {
     "name": "stdout",
     "output_type": "stream",
     "text": [
      "Hello John\n",
      "Hello John, you are 28 years old!\n"
     ]
    }
   ],
   "source": [
    "# injecting variables using the format method\n",
    "name = 'John'\n",
    "print( 'Hello {}' .format(name))\n",
    "print( 'Hello {}, you are {} years old!' .format(name,28))"
   ]
  },
  {
   "cell_type": "code",
   "execution_count": 10,
   "id": "e972648c",
   "metadata": {},
   "outputs": [
    {
     "name": "stdout",
     "output_type": "stream",
     "text": [
      "Hello John\n"
     ]
    }
   ],
   "source": [
    "# using the new f strings\n",
    "name = 'John'\n",
    "print( f'Hello {name}')"
   ]
  },
  {
   "cell_type": "code",
   "execution_count": 14,
   "id": "ce0126a1",
   "metadata": {},
   "outputs": [
    {
     "name": "stdout",
     "output_type": "stream",
     "text": [
      "Hello, John.\n"
     ]
    }
   ],
   "source": [
    "# one major difference between Python versions 2 here, and 3 above\n",
    "name = 'John'\n",
    "print ('Hello, %s.' %name)"
   ]
  },
  {
   "cell_type": "code",
   "execution_count": 16,
   "id": "c9ef01be",
   "metadata": {},
   "outputs": [
    {
     "name": "stdout",
     "output_type": "stream",
     "text": [
      "Hello, John Smith.\n"
     ]
    }
   ],
   "source": [
    "# python 2 multiple variable formatting\n",
    "first_name = 'John'\n",
    "last_name = 'Smith'\n",
    "print ( 'Hello, %s %s.' % (first_name, last_name)) # surround the variables in parenthesis"
   ]
  },
  {
   "cell_type": "code",
   "execution_count": 28,
   "id": "1655b3f1",
   "metadata": {},
   "outputs": [
    {
     "name": "stdout",
     "output_type": "stream",
     "text": [
      "H\n",
      "e\n",
      "l\n",
      "l\n",
      "o\n",
      "o\n",
      "l\n"
     ]
    },
    {
     "ename": "IndexError",
     "evalue": "string index out of range",
     "output_type": "error",
     "traceback": [
      "\u001b[0;31m---------------------------------------------------------------------------\u001b[0m",
      "\u001b[0;31mIndexError\u001b[0m                                Traceback (most recent call last)",
      "Cell \u001b[0;32mIn[28], line 11\u001b[0m\n\u001b[1;32m      8\u001b[0m \u001b[38;5;28mprint\u001b[39m ( word [\u001b[38;5;241m-\u001b[39m\u001b[38;5;241m1\u001b[39m]) \u001b[38;5;66;03m#will output 'o' as well because it is counting backwards from the end\u001b[39;00m\n\u001b[1;32m     10\u001b[0m \u001b[38;5;28mprint\u001b[39m ( word [\u001b[38;5;241m-\u001b[39m\u001b[38;5;241m2\u001b[39m]) \u001b[38;5;66;03m#will output 'l' as it is counting backwards from the end\u001b[39;00m\n\u001b[0;32m---> 11\u001b[0m \u001b[38;5;28mprint\u001b[39m ( word [\u001b[38;5;241m10\u001b[39m])\n",
      "\u001b[0;31mIndexError\u001b[0m: string index out of range"
     ]
    }
   ],
   "source": [
    "# using indexes to print each element\n",
    "word = 'Hello'\n",
    "print ( word [0]) #will output 'H'\n",
    "print ( word [1]) #will output 'e'\n",
    "print ( word [2]) #will output 'l'\n",
    "print ( word [3]) #will output 'l'\n",
    "print ( word [4]) #will output 'o'\n",
    "print ( word [-1]) #will output 'o' as well because it is counting backwards from the end\n",
    "\n",
    "print ( word [-2]) #will output 'l' as it is counting backwards from the end\n",
    "print ( word [10]) #trying to access an index out of range will crash a program"
   ]
  },
  {
   "cell_type": "code",
   "execution_count": 27,
   "id": "ad0f0a8e",
   "metadata": {},
   "outputs": [
    {
     "name": "stdout",
     "output_type": "stream",
     "text": [
      "Hel\n"
     ]
    }
   ],
   "source": [
    "print ( word [0:3]) #this is called string slicing, where we only want part of a variable"
   ]
  },
  {
   "cell_type": "code",
   "execution_count": 37,
   "id": "ca7108d2",
   "metadata": {},
   "outputs": [
    {
     "name": "stdout",
     "output_type": "stream",
     "text": [
      "Hlo\n",
      "Hello\n",
      "H\n"
     ]
    }
   ],
   "source": [
    "# example of string slicing\n",
    "# the syntaxt for slicing is always [start: stop: step]\n",
    "print (word [0:5:2])\n",
    "print (word [0:5:1])\n",
    "print (word [0:5:5])"
   ]
  },
  {
   "cell_type": "code",
   "execution_count": 51,
   "id": "3d2e4124",
   "metadata": {},
   "outputs": [
    {
     "name": "stdout",
     "output_type": "stream",
     "text": [
      "23 4 False John\n",
      "John's favorite sports is knitting.\n",
      "John is working on Python programming!\n"
     ]
    }
   ],
   "source": [
    "#wednesday exercise 1\n",
    "my_integer = 23\n",
    "my_float = 4\n",
    "my_boolean = False\n",
    "name = 'John'\n",
    "print ( f'{my_integer} {my_float} {my_boolean} {name}')\n",
    "\n",
    "\n",
    "#wednesday exercise 2\n",
    "my_name = 'John'\n",
    "my_sport = 'knitting'\n",
    "my_learning = 'Python'\n",
    "print (\"{}'s favorite sports is {}.\" .format(my_name,my_sport))\n",
    "print ('{} is working on {} programming!' .format(my_name,my_learning))\n"
   ]
  },
  {
   "cell_type": "code",
   "execution_count": 1,
   "id": "7e0c5698",
   "metadata": {},
   "outputs": [
    {
     "name": "stdout",
     "output_type": "stream",
     "text": [
      "John Smith\n"
     ]
    }
   ],
   "source": [
    "# using the title method to capitalize a string\n",
    "name = 'john smith'\n",
    "print ( name.title())"
   ]
  },
  {
   "cell_type": "code",
   "execution_count": 3,
   "id": "c68899a0",
   "metadata": {},
   "outputs": [
    {
     "name": "stdout",
     "output_type": "stream",
     "text": [
      "Hello there.\n"
     ]
    }
   ],
   "source": [
    "# replacing an exclaimation point with a period\n",
    "words = 'Hello there!'\n",
    "print ( words.replace('!','.'))"
   ]
  },
  {
   "cell_type": "code",
   "execution_count": 6,
   "id": "dca07d49",
   "metadata": {},
   "outputs": [
    {
     "name": "stdout",
     "output_type": "stream",
     "text": [
      "5\n"
     ]
    }
   ],
   "source": [
    "# find the starting index of our search term\n",
    "s = 'Look over that way'\n",
    "print ( s.find('over'))"
   ]
  },
  {
   "cell_type": "code",
   "execution_count": 24,
   "id": "81f7b99f",
   "metadata": {},
   "outputs": [
    {
     "name": "stdout",
     "output_type": "stream",
     "text": [
      "john\n",
      "john        \n",
      "    john\n",
      "mary\n",
      "maryxxxxxx\n",
      "xxxxxmary\n"
     ]
    }
   ],
   "source": [
    "# removing white spaces with strip\n",
    "name = '    john        '\n",
    "print ( name.strip())\n",
    "print ( name.lstrip())\n",
    "print ( name.rstrip())\n",
    "\n",
    "# removing characters with strip\n",
    "name_2 = 'xxxxxmaryxxxxxx'\n",
    "print ( name_2.strip('x'))\n",
    "print ( name_2.lstrip('x'))\n",
    "print ( name_2.rstrip('x'))"
   ]
  },
  {
   "cell_type": "code",
   "execution_count": 26,
   "id": "d9318147",
   "metadata": {},
   "outputs": [
    {
     "name": "stdout",
     "output_type": "stream",
     "text": [
      "['These', 'words', 'are', 'seperated', 'by', 'spaces']\n"
     ]
    }
   ],
   "source": [
    "# converting a string into a list of words\n",
    "s = 'These words are seperated by spaces'\n",
    "print( s.split())"
   ]
  },
  {
   "cell_type": "code",
   "execution_count": 30,
   "id": "4f2ba37e",
   "metadata": {},
   "outputs": [
    {
     "name": "stdout",
     "output_type": "stream",
     "text": [
      "uppercase\n",
      "Uppercase\n",
      "UPPERCASE\n",
      "John Smith\n"
     ]
    }
   ],
   "source": [
    "#thursday exercise 1\n",
    "my_word1 = 'uppercase'\n",
    "print (my_word1)\n",
    "print (my_word1.title())\n",
    "print (my_word1.upper())\n",
    "\n",
    "#thursday exercise 2\n",
    "strip_symbol = ('$$John Smith')\n",
    "print (strip_symbol.lstrip('$'))"
   ]
  },
  {
   "cell_type": "code",
   "execution_count": null,
   "id": "70a5dbfe",
   "metadata": {},
   "outputs": [],
   "source": [
    "# Friday Project: Printing Receipts"
   ]
  },
  {
   "cell_type": "code",
   "execution_count": 27,
   "id": "8ebc0842",
   "metadata": {},
   "outputs": [
    {
     "name": "stdout",
     "output_type": "stream",
     "text": [
      "**************************************************\n",
      "\t\tCoding Temple, Inc.\n",
      "\t\t238 Franklin St.\n",
      "\t\tBoston, MA\n",
      "==================================================\n",
      "\tProduct Name\tProduct Price\n",
      "\tBook\t\t$49.95\n",
      "\tComputer\t$579.99\n",
      "\tMonitor\t\t$124.89\n",
      "==================================================\n",
      "\t\t\tTotal\n",
      "\t\t\t$754.83\n",
      "==================================================\n",
      "\n",
      "\tThanks for shopping with us today!\n",
      "\n",
      "**************************************************\n"
     ]
    }
   ],
   "source": [
    "#create a product and price for three items\n",
    "p1_name, p1_price = 'Book', 49.95\n",
    "p2_name, p2_price = 'Computer', 579.99\n",
    "p3_name, p3_price = 'Monitor', 124.89\n",
    "\n",
    "# create a company name and information\n",
    "company_name = 'coding temple, inc.'\n",
    "company_address = '238 Franklin St.'\n",
    "company_city = 'Boston, MA'\n",
    "\n",
    "# declare ending message\n",
    "message = 'Thanks for shopping with us today!'\n",
    "\n",
    "# create a top border\n",
    "print ( '*' * 50 )\n",
    "\n",
    "# print company information first, using format\n",
    "print ( '\\t\\t{}'.format( company_name.title()))\n",
    "print ( '\\t\\t{}'.format( company_address))\n",
    "print ( '\\t\\t{}'.format( company_city))\n",
    "\n",
    "# print a line between sections\n",
    "print ( '=' * 50)\n",
    "\n",
    "# print out header for section of items\n",
    "print ('\\tProduct Name\\tProduct Price')\n",
    "\n",
    "# create a print statement for each product\n",
    "print( '\\t{}\\t\\t${}'.format(p1_name.title(), p1_price))\n",
    "print( '\\t{}\\t${}'.format(p2_name.title(), p2_price))\n",
    "print( '\\t{}\\t\\t${}'.format(p3_name.title(), p3_price))\n",
    "\n",
    "# print a line between sections\n",
    "print ( '=' * 50)\n",
    "\n",
    "# print out header for section of total\n",
    "print ('\\t\\t\\tTotal')\n",
    "\n",
    "# calculate total price and print it out\n",
    "total = p1_price + p2_price + p3_price\n",
    "print ( '\\t\\t\\t${}'.format(total))\n",
    "\n",
    "# print a line between sections\n",
    "print ('=' * 50)\n",
    "\n",
    "# output thank you message\n",
    "print ( '\\n\\t{}\\n'.format(message))\n",
    "\n",
    "# create a bottom border\n",
    "print ('*' * 50)"
   ]
  },
  {
   "cell_type": "code",
   "execution_count": 1,
   "id": "52c5fee2",
   "metadata": {},
   "outputs": [
    {
     "name": "stdout",
     "output_type": "stream",
     "text": [
      "What is your name?meowmeow cat\n",
      "meowmeow cat\n"
     ]
    }
   ],
   "source": [
    "# accepting and outputting user input\n",
    "print ( input ('What is your name?'))"
   ]
  },
  {
   "cell_type": "code",
   "execution_count": 2,
   "id": "60b91e5b",
   "metadata": {},
   "outputs": [
    {
     "name": "stdout",
     "output_type": "stream",
     "text": [
      "What is your name?meowmeow cat\n",
      "Hello meowmeow cat!\n"
     ]
    }
   ],
   "source": [
    "# saving what the user inputs\n",
    "ans = input( 'What is your name?')\n",
    "print('Hello {}!'.format(ans))"
   ]
  },
  {
   "cell_type": "code",
   "execution_count": 4,
   "id": "beccd0b9",
   "metadata": {},
   "outputs": [
    {
     "name": "stdout",
     "output_type": "stream",
     "text": [
      "<class 'int'>\n"
     ]
    }
   ],
   "source": [
    "# how to check the data type of a variable\n",
    "num = 5\n",
    "print(type(num))"
   ]
  },
  {
   "cell_type": "code",
   "execution_count": 6,
   "id": "94e36c06",
   "metadata": {},
   "outputs": [
    {
     "name": "stdout",
     "output_type": "stream",
     "text": [
      "<class 'int'>\n"
     ]
    }
   ],
   "source": [
    "# converting a variable from one data type to another\n",
    "num = '9'\n",
    "num = int(num) # re-declaring num to store an integer\n",
    "print(type(num)) # checking type to make sure conversion worked"
   ]
  },
  {
   "cell_type": "code",
   "execution_count": null,
   "id": "4db0c69f",
   "metadata": {},
   "outputs": [],
   "source": [
    "# working with user input to perform calculations\n",
    "ans = input('Type a number to add: ')\n",
    "print( type(ans)) # default type is string, must convert\n",
    "result = 100 + int(ans)\n",
    "print( '100 + {} = {}'.format(ans, result))"
   ]
  },
  {
   "cell_type": "code",
   "execution_count": 36,
   "id": "e13451e6",
   "metadata": {},
   "outputs": [
    {
     "name": "stdout",
     "output_type": "stream",
     "text": [
      "Type a number to add: 5\n",
      "100 + 5.0 = 105.0\n",
      "The program did not break!\n"
     ]
    }
   ],
   "source": [
    "# using the try and except blocks, use tab to indent where necessary\n",
    "try:\n",
    "    ans = float(input('Type a number to add: '))\n",
    "    print( '100 + {} = {}'.format(ans, 100 + ans))\n",
    "except:\n",
    "    print( 'You did not put in a valid number!')\n",
    "# without try/except print state would not get hit if error occurs\n",
    "print('The program did not break!')"
   ]
  },
  {
   "cell_type": "code",
   "execution_count": 37,
   "id": "6e3f9406",
   "metadata": {},
   "outputs": [
    {
     "name": "stdout",
     "output_type": "stream",
     "text": [
      "<class 'str'>\n",
      "<class 'bool'>\n"
     ]
    }
   ],
   "source": [
    "# Monday Exercise 1 \n",
    "# converting a string to a boolean\n",
    "exercise1 = str(True)\n",
    "print( type(exercise1))\n",
    "exercise1 = bool(exercise1)\n",
    "print( type(exercise1))"
   ]
  },
  {
   "cell_type": "code",
   "execution_count": 44,
   "id": "f619d64e",
   "metadata": {},
   "outputs": [
    {
     "name": "stdout",
     "output_type": "stream",
     "text": [
      "Enter a number here: 3\n",
      "3\n",
      "Enter another number here: 10\n",
      "10\n",
      "13\n"
     ]
    }
   ],
   "source": [
    "# Monday Exercise 2\n",
    "sum1 = input('Enter a number here: ')\n",
    "sum1 = int(sum1)\n",
    "print( sum1 )\n",
    "sum2 = input('Enter another number here: ')\n",
    "sum2 = int(sum2)\n",
    "print( sum2 )\n",
    "result = sum1 + sum2\n",
    "print( result )"
   ]
  },
  {
   "cell_type": "code",
   "execution_count": null,
   "id": "f8fd369c",
   "metadata": {},
   "outputs": [],
   "source": []
  }
 ],
 "metadata": {
  "kernelspec": {
   "display_name": "Python 3 (ipykernel)",
   "language": "python",
   "name": "python3"
  },
  "language_info": {
   "codemirror_mode": {
    "name": "ipython",
    "version": 3
   },
   "file_extension": ".py",
   "mimetype": "text/x-python",
   "name": "python",
   "nbconvert_exporter": "python",
   "pygments_lexer": "ipython3",
   "version": "3.11.4"
  }
 },
 "nbformat": 4,
 "nbformat_minor": 5
}
