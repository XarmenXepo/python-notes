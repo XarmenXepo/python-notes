{
 "cells": [
  {
   "cell_type": "code",
   "execution_count": null,
   "id": "eccabfb8",
   "metadata": {},
   "outputs": [],
   "source": [
    "# Dictionaries"
   ]
  },
  {
   "cell_type": "code",
   "execution_count": null,
   "id": "21044fc8",
   "metadata": {},
   "outputs": [],
   "source": [
    "# lists are indexed\n",
    "# dictionaries use keys"
   ]
  },
  {
   "cell_type": "code",
   "execution_count": 4,
   "id": "2657a834",
   "metadata": {},
   "outputs": [
    {
     "name": "stdout",
     "output_type": "stream",
     "text": [
      "{'name': 'Morty', 'age': 26}\n"
     ]
    }
   ],
   "source": [
    "# declaring a dictionary variable\n",
    "empty = {}      # this is an empty dictionary\n",
    "person = { \"name\": \"John Smith\" }      # this is a dictionary with one key/value pair\n",
    "customer = { \n",
    "    \"name\": \"Morty\",      # this dictionary has two key/value pair. \n",
    "    \"age\": 26             # all key/value pairs must be separated by a comma\n",
    "}\n",
    "print(customer)"
   ]
  },
  {
   "cell_type": "code",
   "execution_count": 15,
   "id": "f9cf6c4b",
   "metadata": {},
   "outputs": [
    {
     "name": "stdout",
     "output_type": "stream",
     "text": [
      "John\n"
     ]
    }
   ],
   "source": [
    "# accessing dictionary information through keys\n",
    "person = { \"name\": \"John\" }\n",
    "print(person[\"name\"])      # access information through the key"
   ]
  },
  {
   "cell_type": "code",
   "execution_count": 9,
   "id": "9a4b4829",
   "metadata": {},
   "outputs": [
    {
     "name": "stdout",
     "output_type": "stream",
     "text": [
      "John\n",
      "None\n",
      "Age is not avaialble.\n"
     ]
    }
   ],
   "source": [
    "# using the get method to access dictionary information\n",
    "person = { \"name\": \"John\" }\n",
    "print( person.get(\"name\") )      # retrieves value of name key as before\n",
    "print( person.get(\"age\") )       # we must add in a second argument, as this will just return 'none'\n",
    "print( person.get(\"age\", \"Age is not avaialble.\") )      # get is a more secure way to retrieve information"
   ]
  },
  {
   "cell_type": "code",
   "execution_count": 11,
   "id": "5dedd860",
   "metadata": {},
   "outputs": [
    {
     "name": "stdout",
     "output_type": "stream",
     "text": [
      "baseball\n"
     ]
    }
   ],
   "source": [
    "# storing a list within a dictionary and accessing it\n",
    "data = { \"sports\": [ \"baseball\", \"football\", \"hockey\", \"soccer\" ] }\n",
    "print( data[ \"sports\"][0] )"
   ]
  },
  {
   "cell_type": "code",
   "execution_count": 16,
   "id": "f3d44cfe",
   "metadata": {},
   "outputs": [
    {
     "ename": "ValueError",
     "evalue": "dictionary update sequence element #0 has length 8; 2 is required",
     "output_type": "error",
     "traceback": [
      "\u001b[0;31m---------------------------------------------------------------------------\u001b[0m",
      "\u001b[0;31mValueError\u001b[0m                                Traceback (most recent call last)",
      "Cell \u001b[0;32mIn[16], line 3\u001b[0m\n\u001b[1;32m      1\u001b[0m \u001b[38;5;66;03m# improperly storing a list within a dictionary\u001b[39;00m\n\u001b[1;32m      2\u001b[0m sports \u001b[38;5;241m=\u001b[39m [ \u001b[38;5;124m\"\u001b[39m\u001b[38;5;124mbaseball\u001b[39m\u001b[38;5;124m\"\u001b[39m, \u001b[38;5;124m\"\u001b[39m\u001b[38;5;124mfootball\u001b[39m\u001b[38;5;124m\"\u001b[39m, \u001b[38;5;124m\"\u001b[39m\u001b[38;5;124mhockey\u001b[39m\u001b[38;5;124m\"\u001b[39m, \u001b[38;5;124m\"\u001b[39m\u001b[38;5;124msoccer\u001b[39m\u001b[38;5;124m\"\u001b[39m ]\n\u001b[0;32m----> 3\u001b[0m sports_dict \u001b[38;5;241m=\u001b[39m \u001b[38;5;28mdict\u001b[39m( sports )\n",
      "\u001b[0;31mValueError\u001b[0m: dictionary update sequence element #0 has length 8; 2 is required"
     ]
    }
   ],
   "source": [
    "# improperly storing a list within a dictionary\n",
    "sports = [ \"baseball\", \"football\", \"hockey\", \"soccer\" ]\n",
    "sports_dict = dict( sports )       # this will produce an error as there is no key, a key must be attached first"
   ]
  },
  {
   "cell_type": "code",
   "execution_count": 18,
   "id": "e8c68cc8",
   "metadata": {},
   "outputs": [
    {
     "name": "stdout",
     "output_type": "stream",
     "text": [
      "{'name': 'Kirsten'}\n",
      "Kirsten\n"
     ]
    }
   ],
   "source": [
    "# storing a dictionary within a list and accessing it\n",
    "data = [ \"John\", \"Dennis\", { \"name\": \"Kirsten\" } ]\n",
    "print(data[2])      # the dictionary is in index 2\n",
    "print(data[2][\"name\"])      # this firstly accesses the index, then secondly accesses the key"
   ]
  },
  {
   "cell_type": "code",
   "execution_count": 20,
   "id": "68407ebe",
   "metadata": {},
   "outputs": [
    {
     "name": "stdout",
     "output_type": "stream",
     "text": [
      "{'2018': 108, '2017': 93}\n"
     ]
    }
   ],
   "source": [
    "# storing a dictionary within a dictionary and accessing it\n",
    "data = {\n",
    "    \"team\": \"Boston Red Sox\",\n",
    "    \"wins\": { \"2018\": 108, \"2017\": 93 }\n",
    "}\n",
    "print(data[\"wins\"])      # will output the dictionary within the wins key"
   ]
  },
  {
   "cell_type": "code",
   "execution_count": 22,
   "id": "8a19e1eb",
   "metadata": {},
   "outputs": [
    {
     "name": "stdout",
     "output_type": "stream",
     "text": [
      "What is your name? cat\n",
      "What is your age? 1\n",
      "{'name': 'cat', 'age': '1'}\n"
     ]
    }
   ],
   "source": [
    "# Monday exercise 1\n",
    "name = input( \"What is your name? \" )\n",
    "age = input( \"What is your age? \" )\n",
    "\n",
    "person = { \"name\": name, \"age\": age}\n",
    "print(person)"
   ]
  },
  {
   "cell_type": "code",
   "execution_count": null,
   "id": "8d879b39",
   "metadata": {},
   "outputs": [],
   "source": [
    "# Working with Dictionaries"
   ]
  },
  {
   "cell_type": "code",
   "execution_count": 3,
   "id": "0b2d52f5",
   "metadata": {},
   "outputs": [
    {
     "name": "stdout",
     "output_type": "stream",
     "text": [
      "Year: 2018 \t Color: Blue\n"
     ]
    }
   ],
   "source": [
    "# adding new key/value pairs to a dictionary\n",
    "car = { \"year\": 2018 }\n",
    "car[ \"color\" ] = \"Blue\"\n",
    "print( \"Year: {} \\t Color: {}\".format(car[\"year\"], car[\"color\"]) )"
   ]
  },
  {
   "cell_type": "code",
   "execution_count": 5,
   "id": "3f81d9d2",
   "metadata": {},
   "outputs": [
    {
     "name": "stdout",
     "output_type": "stream",
     "text": [
      "Year: 2018\t Color Red\n"
     ]
    }
   ],
   "source": [
    "# updating a value for a key/value pair that already exists\n",
    "car = { \"year\": 2018, \"color\": \"Blue\" }\n",
    "car[ \"color\" ] = \"Red\"\n",
    "print( \"Year: {}\\t Color {}\".format(car[\"year\"], car[\"color\"]) )"
   ]
  },
  {
   "cell_type": "code",
   "execution_count": 6,
   "id": "5991e64d",
   "metadata": {},
   "outputs": [
    {
     "name": "stdout",
     "output_type": "stream",
     "text": [
      "{}\n"
     ]
    }
   ],
   "source": [
    "# deleting a key/value pair from a dictionary\n",
    "car = { \"year\": 2018 }\n",
    "try:\n",
    "    del car[ \"year\" ]      # removing a key that does not exist will crash a program\n",
    "    print(car)\n",
    "except:\n",
    "    print( \"That key does not exist.\" )      # by using a try/except, we can avoid the program crashing"
   ]
  },
  {
   "cell_type": "code",
   "execution_count": 7,
   "id": "fa6efad4",
   "metadata": {},
   "outputs": [
    {
     "name": "stdout",
     "output_type": "stream",
     "text": [
      "name\n",
      "John\n",
      "age\n",
      "26\n"
     ]
    }
   ],
   "source": [
    "# looping over a dictionary via the keys\n",
    "person = { \"name\": \"John\", \"age\": 26 }\n",
    "for key in person.keys():      # giving a temporary viariable of 'key'\n",
    "    print(key)      \n",
    "    print( person[key] )      # will output the value at the current key"
   ]
  },
  {
   "cell_type": "code",
   "execution_count": 8,
   "id": "736e6892",
   "metadata": {},
   "outputs": [
    {
     "name": "stdout",
     "output_type": "stream",
     "text": [
      "name: John\n",
      "age: 26\n"
     ]
    }
   ],
   "source": [
    "# looping over a dictionary via the key/value pair\n",
    "person = { \"name\": \"John\", \"age\": 26 }\n",
    "for key, value in person.items():\n",
    "    print( \"{}: {}\".format(key, value) )\n",
    "    \n",
    "# temporary variable names are usually called \"k\" and \"v\""
   ]
  },
  {
   "cell_type": "code",
   "execution_count": null,
   "id": "8d7ac78a",
   "metadata": {},
   "outputs": [],
   "source": [
    "# Tuples, Sets, Frozensets"
   ]
  },
  {
   "cell_type": "code",
   "execution_count": 2,
   "id": "f445ef2b",
   "metadata": {},
   "outputs": [
    {
     "name": "stdout",
     "output_type": "stream",
     "text": [
      "<class 'tuple'> <class 'tuple'>\n"
     ]
    },
    {
     "ename": "TypeError",
     "evalue": "'tuple' object does not support item assignment",
     "output_type": "error",
     "traceback": [
      "\u001b[0;31m---------------------------------------------------------------------------\u001b[0m",
      "\u001b[0;31mTypeError\u001b[0m                                 Traceback (most recent call last)",
      "Cell \u001b[0;32mIn[2], line 5\u001b[0m\n\u001b[1;32m      3\u001b[0m t2 \u001b[38;5;241m=\u001b[39m \u001b[38;5;28;01mTrue\u001b[39;00m, \u001b[38;5;241m1\u001b[39m      \u001b[38;5;66;03m# without parenthesis\u001b[39;00m\n\u001b[1;32m      4\u001b[0m \u001b[38;5;28mprint\u001b[39m( \u001b[38;5;28mtype\u001b[39m(t1), \u001b[38;5;28mtype\u001b[39m(t2) )      \u001b[38;5;66;03m# both are tuples\u001b[39;00m\n\u001b[0;32m----> 5\u001b[0m t1[\u001b[38;5;241m0\u001b[39m] \u001b[38;5;241m=\u001b[39m \u001b[38;5;241m1\u001b[39m\n",
      "\u001b[0;31mTypeError\u001b[0m: 'tuple' object does not support item assignment"
     ]
    }
   ],
   "source": [
    "# declaring a tuple\n",
    "t1 = ( \"hello\", 2, \"hello\" )      # with parenthesis\n",
    "t2 = True, 1      # without parenthesis\n",
    "print( type(t1), type(t2) )      # both are tuples\n",
    "t1[0] = 1      # will crash, tuples are immutable once declared"
   ]
  },
  {
   "cell_type": "code",
   "execution_count": 7,
   "id": "c9cbe5a0",
   "metadata": {},
   "outputs": [
    {
     "name": "stdout",
     "output_type": "stream",
     "text": [
      "<class 'set'> <class 'set'>\n",
      "{1, 2, 3}\n",
      "{2, 3, 5}\n"
     ]
    }
   ],
   "source": [
    "# declaring a set\n",
    "s1 = set( [1, 2, 3, 1] )      # this method uses the set keyword and square brackets\n",
    "s2 = { 4, 4, 5 }      # this method uses curly brackets, like dictionary\n",
    "print( type(s1), type(s2) )\n",
    "print(s1)      # sets are unique items, so duplicates will be removed, the second '1' value is dropped.\n",
    "\n",
    "s1.add(5)      # using the add method to add new items to a set\n",
    "s1.remove(1)      # using the remove method to get rid of the value 1, all 1s will be removed\n",
    "print(s1)"
   ]
  },
  {
   "cell_type": "code",
   "execution_count": 9,
   "id": "b972b156",
   "metadata": {},
   "outputs": [
    {
     "name": "stdout",
     "output_type": "stream",
     "text": [
      "frozenset({1, 2, 3, 4})\n"
     ]
    }
   ],
   "source": [
    "# declaring a frozenset\n",
    "# they are a combination of set and tuple, and are perfect for sensitive info like bank account numbers\n",
    "bankaccount = frozenset( [1, 2, 3, 4] )\n",
    "print(bankaccount)"
   ]
  },
  {
   "cell_type": "code",
   "execution_count": null,
   "id": "bd73cce5",
   "metadata": {},
   "outputs": [],
   "source": [
    "# Reading & Writing Files"
   ]
  },
  {
   "cell_type": "code",
   "execution_count": 6,
   "id": "dc2d6853",
   "metadata": {},
   "outputs": [
    {
     "name": "stdout",
     "output_type": "stream",
     "text": [
      "This is a test. I am appending.\n"
     ]
    }
   ],
   "source": [
    "# opening/creating and writing to a text file\n",
    "f = open( \"test.txt\", \"w+\" )      # open file in writing and reading mode\n",
    "f.write( \"This is a test.\" )\n",
    "f.close()      # anytime you open a file, you must always close it\n",
    "\n",
    "f = open( \"test.txt\", \"a+\" )      # mode 'w' will over the entire file, mode 'a' will append to the file\n",
    "f.write( \" I am appending.\" )\n",
    "\n",
    "# reading from a text file\n",
    "f = open( \"test.txt\", \"r\" )\n",
    "data = f.read()      # assigning the variable 'f' into the variable 'data'\n",
    "f.close()\n",
    "print(data)"
   ]
  },
  {
   "cell_type": "code",
   "execution_count": 29,
   "id": "359d2e2c",
   "metadata": {},
   "outputs": [
    {
     "name": "stdout",
     "output_type": "stream",
     "text": [
      "<_io.TextIOWrapper name='test.csv' mode='w' encoding='UTF-8'>\n",
      "<_csv.writer object at 0x107b20700>\n"
     ]
    }
   ],
   "source": [
    "# opening/creating and writing to a csv file\n",
    "import csv\n",
    "with open( \"test.csv\", mode=\"w\", newline=\"\" ) as f:      # opens the file in write mode as variable 'f'\n",
    "    writer = csv.writer( f, delimiter=\",\" )      # create a 'writer' variable to allow us to write to the CSV \n",
    "    writer.writerow( [\"Name\", \"City\" ] )\n",
    "    writer.writerow( [\"Craig Lou\", \"Taiwan\"] )\n",
    "    \n",
    "print(f)\n",
    "print(writer)"
   ]
  },
  {
   "cell_type": "code",
   "execution_count": 32,
   "id": "bdbf3b75",
   "metadata": {},
   "outputs": [
    {
     "name": "stdout",
     "output_type": "stream",
     "text": [
      "['Name', 'City']\n",
      "['Craig Lou', 'Taiwan']\n",
      "['Hello Kitty', 'Japan']\n"
     ]
    }
   ],
   "source": [
    "# reading from csv files\n",
    "with open( \"test.csv\", mode=\"r\" ) as f:      # open file in read mode as variable 'f'\n",
    "    reader = csv.reader( f, delimiter=\",\" )      # create a 'reader' object\n",
    "    for row in reader:      # loop over the 'reader' variable and print out each piece of data\n",
    "        print(row)\n",
    "        \n",
    "# appending to a csv file\n",
    "with open( \"test.csv\", mode=\"a\" ) as f:\n",
    "    writer = csv.writer( f, delimiter=\",\" )\n",
    "    writer.writerow( [\"Hello Kitty\", \"Japan\"])"
   ]
  },
  {
   "cell_type": "code",
   "execution_count": null,
   "id": "04eb12e2",
   "metadata": {},
   "outputs": [],
   "source": [
    "# Friday Project: Creating a User Database with CSV Files"
   ]
  },
  {
   "cell_type": "code",
   "execution_count": null,
   "id": "ad66b807",
   "metadata": {},
   "outputs": [
    {
     "name": "stdout",
     "output_type": "stream",
     "text": [
      "Something went wrong, Try again.\n",
      "1. Login\n",
      "2. Register\n",
      "3. Quit\n"
     ]
    }
   ],
   "source": [
    "# import all necessary packages to be used\n",
    "import csv\n",
    "from IPython.display import clear_output\n",
    "\n",
    "# handle user registration and writing to csv\n",
    "def registerUser():\n",
    "    with open( \"users.csv\", mode=\"a\", newline=\" \" ) as f:\n",
    "        writer = csv.writer( f, delimiter=\",\" )\n",
    "        \n",
    "        print( \"To register, please enter your info:\" )\n",
    "        email = input( \"E-mail: \" )\n",
    "        password = input( \"Password: \" )\n",
    "        password2 = input( \"Re-type password: \" )\n",
    "        \n",
    "        clear_output()\n",
    "        \n",
    "        if password == password2:\n",
    "            writer.writerow( [email, password] )\n",
    "            print( \"You are now registered!\" )\n",
    "        else:\n",
    "            print( \"Something went wrong. Try again.\" )\n",
    "            \n",
    "# ask for user info and return true to login or false if incorrect info\n",
    "def loginUser():\n",
    "    print( \"To login, please enter your info:\")\n",
    "    email = input( \"E-mail: \" )\n",
    "    password = input( \"Password: \")\n",
    "    \n",
    "    clear_output()\n",
    "    \n",
    "    with open( \"users.csv\", mode=\"r\" ) as f:\n",
    "        reader = csv.reader( f, delimiter=\",\" )\n",
    "        \n",
    "        for row in reader:\n",
    "            if row == [email, password]:\n",
    "                print( \"You are now logged in!\" )\n",
    "                return True\n",
    "   \n",
    "    print( \"Something went wrong, Try again.\" )\n",
    "    return False\n",
    "\n",
    "# variables for main loop\n",
    "active = True\n",
    "logged_in = False\n",
    "\n",
    "# main loop\n",
    "while active:\n",
    "    if logged_in:\n",
    "        print( \"1. logout\\n2. Quit\" )\n",
    "    else:\n",
    "        print( \"1. Login\\n2. Register\\n3. Quit\" )\n",
    "    choice = input( \"What would you like to do? \").lower()\n",
    "    \n",
    "    clear_output()\n",
    "    \n",
    "    if choice == \"register\" and logged_in == False:\n",
    "        registerUser()\n",
    "    elif choice == \"login\" and logged_in == False:\n",
    "        logged_in = loginUser()\n",
    "    elif choice == \"quit\":\n",
    "        active = False\n",
    "        print( \"Thanks for using our software!\" )\n",
    "    elif choice == \"logout\" and logged_in == True:\n",
    "        logged_in = False\n",
    "        print( \"You are now logged out.\" )\n",
    "    else:\n",
    "        print( \"Sorry, please try again!\" )\n",
    "        "
   ]
  },
  {
   "cell_type": "code",
   "execution_count": null,
   "id": "3cea2393",
   "metadata": {},
   "outputs": [],
   "source": []
  }
 ],
 "metadata": {
  "kernelspec": {
   "display_name": "Python 3 (ipykernel)",
   "language": "python",
   "name": "python3"
  },
  "language_info": {
   "codemirror_mode": {
    "name": "ipython",
    "version": 3
   },
   "file_extension": ".py",
   "mimetype": "text/x-python",
   "name": "python",
   "nbconvert_exporter": "python",
   "pygments_lexer": "ipython3",
   "version": "3.11.4"
  }
 },
 "nbformat": 4,
 "nbformat_minor": 5
}
