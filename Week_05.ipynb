{
 "cells": [
  {
   "cell_type": "code",
   "execution_count": null,
   "id": "5c0e8429",
   "metadata": {},
   "outputs": [],
   "source": [
    "# Creating & Calling Functions"
   ]
  },
  {
   "cell_type": "code",
   "execution_count": 2,
   "id": "97e7ba6c",
   "metadata": {},
   "outputs": [
    {
     "name": "stdout",
     "output_type": "stream",
     "text": [
      "Name: John Smith\n",
      "Age: 45\n",
      "Name: John Smith\n",
      "Age: 45\n"
     ]
    }
   ],
   "source": [
    "# writing your first function\n",
    "def printInfo():\n",
    "    print( \"Name: John Smith\" )\n",
    "    print( \"Age: 45\" )\n",
    "printInfo()      # calls the function to run\n",
    "printInfo()      # calls the function again"
   ]
  },
  {
   "cell_type": "code",
   "execution_count": 4,
   "id": "f9df18bc",
   "metadata": {},
   "outputs": [
    {
     "name": "stdout",
     "output_type": "stream",
     "text": [
      "15\n"
     ]
    }
   ],
   "source": [
    "# performing a calculation in a function\n",
    "def calc():\n",
    "    x, y = 5, 10\n",
    "    print( x + y )\n",
    "calc()      #will run the block of code within calc and output 15"
   ]
  },
  {
   "cell_type": "code",
   "execution_count": 19,
   "id": "1aea9f73",
   "metadata": {},
   "outputs": [
    {
     "name": "stdout",
     "output_type": "stream",
     "text": [
      "MeowmeowCat\n",
      "cheese hotdog mushrooms\n",
      "cheese hotdog mushrooms\n",
      "cheese hotdog mushrooms\n"
     ]
    }
   ],
   "source": [
    "# Monday Exercise 1\n",
    "def myName():\n",
    "    print( \"MeowmeowCat\" )\n",
    "myName()\n",
    "\n",
    "# Monday Exercise 2\n",
    "def favPizzaTopping():\n",
    "    print( \"cheese\", \"hotdog\", \"mushrooms\" )\n",
    "favPizzaTopping()\n",
    "favPizzaTopping()\n",
    "favPizzaTopping()"
   ]
  },
  {
   "cell_type": "code",
   "execution_count": null,
   "id": "c6d355c5",
   "metadata": {},
   "outputs": [],
   "source": [
    "# Parameters"
   ]
  },
  {
   "cell_type": "code",
   "execution_count": 2,
   "id": "f281474c",
   "metadata": {},
   "outputs": [
    {
     "name": "stdout",
     "output_type": "stream",
     "text": [
      "Your name is: John Smith\n",
      "Your name is: Amanda\n"
     ]
    }
   ],
   "source": [
    "# passing a single parameter into a function\n",
    "def printname(full_name):\n",
    "    print( \"Your name is: {}\".format(full_name))\n",
    "printname( \"John Smith\" )\n",
    "printname( \"Amanda\" )"
   ]
  },
  {
   "cell_type": "code",
   "execution_count": 3,
   "id": "44f1a4c2",
   "metadata": {},
   "outputs": [
    {
     "name": "stdout",
     "output_type": "stream",
     "text": [
      "5 + 8 = 13\n",
      "3.5 + 5.5 = 9.0\n"
     ]
    }
   ],
   "source": [
    "# passing multiple parameters into a function\n",
    "def addNums( num1, num2 ):\n",
    "    result= num1 + num2\n",
    "    print( \"{} + {} = {}\".format(num1, num2, result))\n",
    "addNums( 5, 8 )      # will output 13\n",
    "addNums( 3.5, 5.5 )      # will output 9.0"
   ]
  },
  {
   "cell_type": "code",
   "execution_count": 9,
   "id": "692fd52f",
   "metadata": {},
   "outputs": [
    {
     "name": "stdout",
     "output_type": "stream",
     "text": [
      "4\n",
      "16\n",
      "25\n",
      "100\n",
      "1\n",
      "9\n",
      "36\n"
     ]
    }
   ],
   "source": [
    "# using a function to square all information\n",
    "numbers1 = [ 2, 4, 5, 10 ]\n",
    "numbers2 = [ 1, 3, 6 ]\n",
    "def squares(nums):      # nums is an arbirary name and is the variable referenced within this function block\n",
    "    for num in nums:     \n",
    "        print( num**2 )\n",
    "squares( numbers1 )\n",
    "squares( numbers2 )"
   ]
  },
  {
   "cell_type": "code",
   "execution_count": 11,
   "id": "3c70dbc4",
   "metadata": {},
   "outputs": [
    {
     "name": "stdout",
     "output_type": "stream",
     "text": [
      "Area: 12.56\n"
     ]
    }
   ],
   "source": [
    "# setting default parameter values\n",
    "def calcArea(r, pi=3.14 ):      # default parameters MUST always go after non-default parameters\n",
    "    area = pi * ( r**2 )\n",
    "    print( \"Area: {}\".format(area))\n",
    "calcArea( 2 )      # assuming radius is a value of 2"
   ]
  },
  {
   "cell_type": "code",
   "execution_count": 2,
   "id": "dc5b8341",
   "metadata": {},
   "outputs": [
    {
     "name": "stdout",
     "output_type": "stream",
     "text": [
      "John Smith\n",
      "Ana Presley Marie\n"
     ]
    }
   ],
   "source": [
    "# setting default parameter values\n",
    "def printName( first, last, middle = \"\" ):\n",
    "    if middle:\n",
    "        print( \"{} {} {}\".format(first, middle, last) )\n",
    "    else:\n",
    "        print( \"{} {}\".format(first,last) )\n",
    "printName( \"John\", \"Smith\" )\n",
    "printName( \"Ana\", \"Marie\", \"Presley\" )      # will output middle name"
   ]
  },
  {
   "cell_type": "code",
   "execution_count": 3,
   "id": "68a7df5a",
   "metadata": {},
   "outputs": [
    {
     "name": "stdout",
     "output_type": "stream",
     "text": [
      "5\n",
      "2.5\n"
     ]
    }
   ],
   "source": [
    "# explicitly assigning values to parameters by referencing the name\n",
    "def addNums( num1, num2 ):\n",
    "    print(num1)\n",
    "    print(num2)\n",
    "addNums( 5, num2 = 2.5 )"
   ]
  },
  {
   "cell_type": "code",
   "execution_count": 8,
   "id": "f3861683",
   "metadata": {},
   "outputs": [
    {
     "name": "stdout",
     "output_type": "stream",
     "text": [
      "<class 'tuple'>\n",
      "5\n",
      "True\n",
      "Jess\n"
     ]
    }
   ],
   "source": [
    "# using args parameter to take in a tuple of arbitrary values\n",
    "def outputData( name, *args ):\n",
    "    print( type(args))\n",
    "    for arg in args:\n",
    "        print(arg)\n",
    "outputData( \"John Smith\", 5, True, \"Jess\" )"
   ]
  },
  {
   "cell_type": "code",
   "execution_count": 17,
   "id": "6b8de49d",
   "metadata": {},
   "outputs": [
    {
     "name": "stdout",
     "output_type": "stream",
     "text": [
      "<class 'dict'>\n",
      "John Smith\n",
      "5\n"
     ]
    }
   ],
   "source": [
    " # using kwarg parameter to take in a dictionary of arbitrary values\n",
    "def outputData( **kwargs ):\n",
    "    print( type(kwargs) )\n",
    "    print( kwargs[\"name\"] )\n",
    "    print( kwargs[\"num\"] )\n",
    "outputData( name = \"John Smith\", num = 5, b = True )"
   ]
  },
  {
   "cell_type": "code",
   "execution_count": null,
   "id": "92805549",
   "metadata": {},
   "outputs": [],
   "source": [
    "# Return Statement"
   ]
  },
  {
   "cell_type": "code",
   "execution_count": 20,
   "id": "e51b1146",
   "metadata": {},
   "outputs": [
    {
     "name": "stdout",
     "output_type": "stream",
     "text": [
      "10.0\n",
      "20\n"
     ]
    }
   ],
   "source": [
    "# using return keyword to return the sum of two numbers\n",
    "def addNums( num1, num2 ):\n",
    "    return num1 + num2\n",
    "num = addNums( 5.5, 4.5 )      # saves returned value into num\n",
    "print(num)\n",
    "print( addNums(10 ,10))      # does not save returned value"
   ]
  },
  {
   "cell_type": "code",
   "execution_count": 22,
   "id": "0968375e",
   "metadata": {},
   "outputs": [
    {
     "name": "stdout",
     "output_type": "stream",
     "text": [
      "True\n"
     ]
    }
   ],
   "source": [
    "# shorthand syntax using a ternary operator\n",
    "def searchList( aList, el ):\n",
    "    return True if el in aList else False\n",
    "result = searchList( [\"one\", 2, \"three\"], 2)      # result will be True\n",
    "print(result)"
   ]
  },
  {
   "cell_type": "code",
   "execution_count": 2,
   "id": "ecaafab9",
   "metadata": {},
   "outputs": [],
   "source": [
    "# scope"
   ]
  },
  {
   "cell_type": "code",
   "execution_count": 3,
   "id": "183e3717",
   "metadata": {},
   "outputs": [
    {
     "ename": "UnboundLocalError",
     "evalue": "cannot access local variable 'number' where it is not associated with a value",
     "output_type": "error",
     "traceback": [
      "\u001b[0;31m---------------------------------------------------------------------------\u001b[0m",
      "\u001b[0;31mUnboundLocalError\u001b[0m                         Traceback (most recent call last)",
      "Cell \u001b[0;32mIn[3], line 5\u001b[0m\n\u001b[1;32m      3\u001b[0m \u001b[38;5;28;01mdef\u001b[39;00m \u001b[38;5;21mscopeTest\u001b[39m():\n\u001b[1;32m      4\u001b[0m     number \u001b[38;5;241m+\u001b[39m\u001b[38;5;241m=\u001b[39m \u001b[38;5;241m1\u001b[39m      \u001b[38;5;66;03m# not accessible due to function level scope\u001b[39;00m\n\u001b[0;32m----> 5\u001b[0m scopeTest()\n",
      "Cell \u001b[0;32mIn[3], line 4\u001b[0m, in \u001b[0;36mscopeTest\u001b[0;34m()\u001b[0m\n\u001b[1;32m      3\u001b[0m \u001b[38;5;28;01mdef\u001b[39;00m \u001b[38;5;21mscopeTest\u001b[39m():\n\u001b[0;32m----> 4\u001b[0m     number \u001b[38;5;241m+\u001b[39m\u001b[38;5;241m=\u001b[39m \u001b[38;5;241m1\u001b[39m\n",
      "\u001b[0;31mUnboundLocalError\u001b[0m: cannot access local variable 'number' where it is not associated with a value"
     ]
    }
   ],
   "source": [
    "# where global variables can be accessed\n",
    "number = 5\n",
    "def scopeTest():\n",
    "    number += 1      # not accessible due to function level scope\n",
    "scopeTest()"
   ]
  },
  {
   "cell_type": "code",
   "execution_count": 5,
   "id": "159a27c2",
   "metadata": {},
   "outputs": [
    {
     "name": "stdout",
     "output_type": "stream",
     "text": [
      "function\n"
     ]
    }
   ],
   "source": [
    "# accessing variables defined in a function\n",
    "def scopeTest():\n",
    "    word = \"function\"\n",
    "    return word      # in order to access that value, best practice is to return it.\n",
    "value = scopeTest()\n",
    "print(value)"
   ]
  },
  {
   "cell_type": "code",
   "execution_count": 9,
   "id": "681d4a2f",
   "metadata": {},
   "outputs": [
    {
     "name": "stdout",
     "output_type": "stream",
     "text": [
      "5\n"
     ]
    }
   ],
   "source": [
    "# passing variables into a function, passes its value and not the variable itself\n",
    "num = 5\n",
    "def changeNum(n):\n",
    "    n += 5\n",
    "print(num)      # the variable itself would not be altered"
   ]
  },
  {
   "cell_type": "code",
   "execution_count": 10,
   "id": "d409798b",
   "metadata": {},
   "outputs": [
    {
     "name": "stdout",
     "output_type": "stream",
     "text": [
      "Before Altering:['baseball', 'football', 'hocke', 'basketball']\n",
      "After Altering:['soccer', 'football', 'hocke', 'basketball']\n"
     ]
    }
   ],
   "source": [
    "# changing list item values by index, also known as in-place algorithms\n",
    "sports = [ \"baseball\", \"football\", \"hocke\", \"basketball\" ]\n",
    "def change(aList):\n",
    "    aList[ 0 ] = \"soccer\"\n",
    "print( \"Before Altering:{}\".format(sports) )\n",
    "change(sports)\n",
    "print( \"After Altering:{}\".format(sports) )"
   ]
  },
  {
   "cell_type": "code",
   "execution_count": null,
   "id": "3da07395",
   "metadata": {},
   "outputs": [],
   "source": [
    "# Friday Project: Creating a Shopping Cart"
   ]
  },
  {
   "cell_type": "code",
   "execution_count": null,
   "id": "87a86274",
   "metadata": {},
   "outputs": [
    {
     "name": "stdout",
     "output_type": "stream",
     "text": [
      "Here is your cart:\n",
      "- Mango\n",
      "- Durian\n",
      "Your cart is empty\n"
     ]
    }
   ],
   "source": [
    "# import necessary functions\n",
    "from IPython.display import clear_output\n",
    "\n",
    "# global list variable\n",
    "cart = []\n",
    "\n",
    "# create function to add items to cart\n",
    "def addItem(item):\n",
    "    clear_output()\n",
    "    cart.append(item)\n",
    "    print( \"{} has been added.\".format(item) )\n",
    "    \n",
    "# create function to remove items from cart\n",
    "def removeItem(item):\n",
    "        clear_output()\n",
    "        try:\n",
    "            cart.remove(item)\n",
    "            print( \"{} has been removed\".format(item) )\n",
    "        except:\n",
    "            print( \"Sorry we could not remove that item.\" )\n",
    "    \n",
    "# create a function to show items in a cart\n",
    "def showCart():\n",
    "    clear_output()\n",
    "    if cart:\n",
    "        print( \"Here is your cart:\" )\n",
    "        for item in cart:\n",
    "            print( \"- {}\".format(item) )\n",
    "        else:\n",
    "            print( \"Your cart is empty\" )\n",
    "            \n",
    "# create function to clear itmes from cart\n",
    "def clearCart():\n",
    "    clear_output()\n",
    "    cart.clear()      # clear is a built in method\n",
    "    print( \"Your cart is now empty\" )\n",
    "    \n",
    "# create main function that loops until the user quits\n",
    "def main():\n",
    "    done = False\n",
    "    while not done:\n",
    "        ans = input( \"quit/add/remove/show/clear\" ).lower()\n",
    "    \n",
    "    \n",
    "        #base case\n",
    "        if ans == \"quit\":\n",
    "            print( \"Thanks for using the shopping cart!\" )                \n",
    "            showCart()\n",
    "            done = True\n",
    "        elif ans == \"add\":\n",
    "            item = input( \"What would you like to add? \").title()\n",
    "            addItem(item)\n",
    "        elif ans == \"remove\":\n",
    "            showCart()\n",
    "            item = input( \"What item would you like to remove? \".title())\n",
    "            remoteItem(item)\n",
    "        elif ans == \"show\":\n",
    "            showCart()\n",
    "        elif ans == \"clear\":\n",
    "            clearCart()\n",
    "        else:\n",
    "                print( \"Sorry that is not an option.\" )\n",
    "\n",
    "main()      # run the program"
   ]
  }
 ],
 "metadata": {
  "kernelspec": {
   "display_name": "Python 3 (ipykernel)",
   "language": "python",
   "name": "python3"
  },
  "language_info": {
   "codemirror_mode": {
    "name": "ipython",
    "version": 3
   },
   "file_extension": ".py",
   "mimetype": "text/x-python",
   "name": "python",
   "nbconvert_exporter": "python",
   "pygments_lexer": "ipython3",
   "version": "3.11.4"
  }
 },
 "nbformat": 4,
 "nbformat_minor": 5
}
